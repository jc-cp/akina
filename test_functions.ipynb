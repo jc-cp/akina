{
 "cells": [
  {
   "cell_type": "code",
   "execution_count": 1,
   "outputs": [],
   "source": [
    "import pandas as pd\n",
    "import numpy as np\n",
    "import scipy.optimize\n",
    "import scipy.stats\n",
    "import seaborn as sns\n",
    "from sklearn.svm import SVR\n",
    "import matplotlib.pyplot as plt\n",
    "from collections import Counter\n",
    "import os"
   ],
   "metadata": {
    "collapsed": false,
    "pycharm": {
     "name": "#%%\n"
    }
   }
  },
  {
   "cell_type": "code",
   "execution_count": 2,
   "outputs": [],
   "source": [
    "listings = pd.read_csv(\"test_data/listings_shorted.csv\", sep=\",\")\n",
    "sigVars = ['GUID','REGISTRATION_YEAR', 'MILEAGE', 'POWER_IN_KW', 'HORSEPOWER', 'GEARING_TYPE',\n",
    "       'WARRANTY',\n",
    "       'PRICE_PUBLIC', 'CYLINDERS', 'EMISSION_CLASS', 'PRIMARY_FUEL_TYPE',\n",
    "       'CONSUMPTION_HIGHWAY', 'CONSUMPTION_CITY', 'CONSUMPTION_MIXED',\n",
    "       'ELECTRIC_CONSUMPTION_MIXED', 'EFFICIENCY_CLASS', 'CO2_EMISSION', 'EMISSION_STICKER']\n",
    "listings_processed = listings[sigVars]\n",
    "numericVars = ['MILEAGE','POWER_IN_KW', 'HORSEPOWER',\n",
    "       'PRICE_PUBLIC',\n",
    "       'CYLINDERS',\n",
    "       'CONSUMPTION_HIGHWAY', 'CONSUMPTION_CITY', 'CONSUMPTION_MIXED',\n",
    "       'CO2_EMISSION']\n",
    "listings_numeric = listings[numericVars]"
   ],
   "metadata": {
    "collapsed": false,
    "pycharm": {
     "name": "#%%\n"
    }
   }
  },
  {
   "cell_type": "code",
   "execution_count": null,
   "outputs": [],
   "source": [
    "sns.displot(listings_numeric['HORSEPOWER'], kde = True, stat = 'count')"
   ],
   "metadata": {
    "collapsed": false,
    "pycharm": {
     "name": "#%%\n"
    }
   }
  }
 ],
 "metadata": {
  "kernelspec": {
   "display_name": "Python 3",
   "language": "python",
   "name": "python3"
  },
  "language_info": {
   "codemirror_mode": {
    "name": "ipython",
    "version": 2
   },
   "file_extension": ".py",
   "mimetype": "text/x-python",
   "name": "python",
   "nbconvert_exporter": "python",
   "pygments_lexer": "ipython2",
   "version": "2.7.6"
  }
 },
 "nbformat": 4,
 "nbformat_minor": 0
}